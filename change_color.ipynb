{
 "cells": [
  {
   "cell_type": "code",
   "execution_count": 1,
   "metadata": {},
   "outputs": [],
   "source": [
    "import numpy as np\n",
    "import os\n",
    "import cv2 as cv"
   ]
  },
  {
   "cell_type": "code",
   "execution_count": 2,
   "metadata": {},
   "outputs": [
    {
     "data": {
      "text/plain": "['in_01.png',\n 'in_02.png',\n 'in_03.png',\n 'in_05.png',\n 'in_06.png',\n 'in_08.png',\n 'in_09.png',\n 'in_11.png',\n 'in_15.png',\n 'in_20.png',\n 'in_24.png',\n 'in_29.png',\n 'in_50.png',\n 'in_51.png',\n 'in_56.png',\n 'res_01.png',\n 'res_02.png',\n 'res_03.png',\n 'res_05.png',\n 'res_06.png',\n 'res_08.png',\n 'res_09.png',\n 'res_11.png',\n 'res_15.png',\n 'res_20.png',\n 'res_24.png',\n 'res_29.png',\n 'res_50.png',\n 'res_51.png',\n 'res_56.png',\n 'tar_01.png',\n 'tar_02.png',\n 'tar_03.png',\n 'tar_05.png',\n 'tar_06.png',\n 'tar_08.png',\n 'tar_09.png',\n 'tar_11.png',\n 'tar_15.png',\n 'tar_20.png',\n 'tar_24.png',\n 'tar_29.png',\n 'tar_50.png',\n 'tar_51.png',\n 'tar_56.png']"
     },
     "execution_count": 2,
     "metadata": {},
     "output_type": "execute_result"
    }
   ],
   "source": [
    "path_list = os.listdir(\"./data\")\n",
    "path_list"
   ]
  },
  {
   "cell_type": "code",
   "execution_count": 3,
   "metadata": {},
   "outputs": [],
   "source": [
    "targets, sources, results = [], [], []"
   ]
  },
  {
   "cell_type": "code",
   "execution_count": 4,
   "metadata": {},
   "outputs": [
    {
     "data": {
      "text/plain": "(['tar_01.png',\n  'tar_02.png',\n  'tar_03.png',\n  'tar_05.png',\n  'tar_06.png',\n  'tar_08.png',\n  'tar_09.png',\n  'tar_11.png',\n  'tar_15.png',\n  'tar_20.png',\n  'tar_24.png',\n  'tar_29.png',\n  'tar_50.png',\n  'tar_51.png',\n  'tar_56.png'],\n ['in_01.png',\n  'in_02.png',\n  'in_03.png',\n  'in_05.png',\n  'in_06.png',\n  'in_08.png',\n  'in_09.png',\n  'in_11.png',\n  'in_15.png',\n  'in_20.png',\n  'in_24.png',\n  'in_29.png',\n  'in_50.png',\n  'in_51.png',\n  'in_56.png'],\n ['res_01.png',\n  'res_02.png',\n  'res_03.png',\n  'res_05.png',\n  'res_06.png',\n  'res_08.png',\n  'res_09.png',\n  'res_11.png',\n  'res_15.png',\n  'res_20.png',\n  'res_24.png',\n  'res_29.png',\n  'res_50.png',\n  'res_51.png',\n  'res_56.png'])"
     },
     "execution_count": 4,
     "metadata": {},
     "output_type": "execute_result"
    }
   ],
   "source": [
    "{targets.append(path) if path.startswith(\"tar\") else sources.append(path) if path.startswith(\"in\") else results.append(\n",
    "    path) for path in path_list}\n",
    "targets, sources, results"
   ]
  },
  {
   "cell_type": "code",
   "execution_count": 5,
   "metadata": {},
   "outputs": [],
   "source": [
    "target_list, source_list, result_list = [], [], []\n",
    "for i in range(len(targets)):\n",
    "    # target img\n",
    "    target_path = os.path.join(\"./data\", targets[i])\n",
    "    target_img = cv.imread(target_path)\n",
    "    target_img = cv.cvtColor(target_img, cv.COLOR_BGR2LAB).astype(\"float32\")\n",
    "    target_list.append(target_img)\n",
    "    # source img\n",
    "    source_path = os.path.join(\"./data\", sources[i])\n",
    "    source_img = cv.imread(source_path)\n",
    "    source_img = cv.cvtColor(source_img, cv.COLOR_BGR2LAB).astype(\"float32\")\n",
    "    source_list.append(source_img)\n",
    "    # result img\n",
    "    result_path = os.path.join(\"./data\", results[i])\n",
    "    result_img = cv.imread(result_path)\n",
    "    result_img = cv.cvtColor(result_img, cv.COLOR_BGR2LAB).astype(\"float32\")\n",
    "    result_list.append(result_img)"
   ]
  },
  {
   "cell_type": "code",
   "execution_count": 6,
   "outputs": [],
   "source": [
    "# returns the Mean and Std for LAB channels\n",
    "def image_stats(x):\n",
    "    l, a, b = cv.split(x)\n",
    "    lMean, lStd = l.mean(), l.std()\n",
    "    aMean, aStd = a.mean(), a.std()\n",
    "    bMean, bStd = b.mean(), b.std()\n",
    "\n",
    "    return (lMean, lStd, aMean, aStd, bMean, bStd)"
   ],
   "metadata": {
    "collapsed": false
   }
  },
  {
   "cell_type": "code",
   "execution_count": 7,
   "outputs": [],
   "source": [
    "# transfer the color of images\n",
    "def transfer_img(source_img, target_img):\n",
    "    (lMeanSrc, lStdSrc, aMeanSrc, aStdSrc, bMeanSrc, bStdSrc) = image_stats(source_img)\n",
    "    (lMeanTar, lStdTar, aMeanTar, aStdTar, bMeanTar, bStdTar) = image_stats(target_img)\n",
    "\n",
    "    l, a, b = cv.split(source_img)\n",
    "    l -= lMeanSrc\n",
    "    a -= aMeanSrc\n",
    "    b -= bMeanSrc\n",
    "\n",
    "    l *= (lStdSrc / lStdTar)\n",
    "    a *= (aStdSrc / aStdTar)\n",
    "    b *= (bStdSrc / bStdTar)\n",
    "\n",
    "    l += lMeanTar\n",
    "    a += aMeanTar\n",
    "    b += bMeanTar\n",
    "\n",
    "    l = np.clip(l, 0, 255)\n",
    "    a = np.clip(a, 0, 255)\n",
    "    b = np.clip(b, 0, 255)\n",
    "\n",
    "    transfer = cv.merge([l, a, b])\n",
    "    transfer = cv.cvtColor(transfer.astype(\"uint8\"), cv.COLOR_LAB2BGR)\n",
    "    return transfer"
   ],
   "metadata": {
    "collapsed": false
   }
  },
  {
   "cell_type": "code",
   "execution_count": 8,
   "metadata": {},
   "outputs": [],
   "source": [
    "# transferring the colors and save in a directory\n",
    "for n in range(len(source_list)):\n",
    "    source_img, target_img = source_list[n], target_list[n]\n",
    "    transfer = transfer_img(source_img, target_img)\n",
    "    cv.imwrite(f\"./result/{results[n]}\", transfer)"
   ]
  },
  {
   "cell_type": "code",
   "execution_count": 9,
   "outputs": [],
   "source": [
    "# SSD\n",
    "def ssd(X, Y):\n",
    "    return np.sum((X - Y) ** 2)"
   ],
   "metadata": {
    "collapsed": false
   }
  },
  {
   "cell_type": "code",
   "execution_count": 10,
   "outputs": [],
   "source": [
    "# NCC\n",
    "def cor(X, Y):\n",
    "    return np.sum(X * Y) / np.sum(X) / np.sum(Y)"
   ],
   "metadata": {
    "collapsed": false
   }
  },
  {
   "cell_type": "code",
   "execution_count": 11,
   "outputs": [],
   "source": [
    "# SSD and NCC => SSD x NCC\n",
    "def ssd_and_cor(X, Y):\n",
    "    return ssd(X, Y) * cor(X, Y)"
   ],
   "metadata": {
    "collapsed": false
   }
  },
  {
   "cell_type": "markdown",
   "source": [
    "splitting image"
   ],
   "metadata": {
    "collapsed": false
   }
  },
  {
   "cell_type": "code",
   "execution_count": 12,
   "outputs": [],
   "source": [
    "# dividing function for images\n",
    "def split(img, m, n):\n",
    "    height, width = img.shape[0], img.shape[1]\n",
    "    h = height // m\n",
    "    w = width // n\n",
    "    imgs = []\n",
    "    for i in range(0, height // m * m, h):\n",
    "        for j in range(0, width // n * n, w):\n",
    "            imgs.append(np.clip(img[i:i + h, j:j + w, :], 0, 255))\n",
    "    return imgs"
   ],
   "metadata": {
    "collapsed": false
   }
  },
  {
   "cell_type": "code",
   "execution_count": 13,
   "outputs": [],
   "source": [
    "# concatenate function\n",
    "def concat_vh(list_2d):\n",
    "    arr = [cv.hconcat(np.array(list_h)) for list_h in list_2d]\n",
    "    return cv.vconcat(np.array(arr))"
   ],
   "metadata": {
    "collapsed": false
   }
  },
  {
   "cell_type": "code",
   "execution_count": 14,
   "outputs": [],
   "source": [
    "# a function returns images for different number of subimages and methods\n",
    "def func(sImg, tImg, method):\n",
    "    diffs = []\n",
    "    for i in range(2, 6):\n",
    "        for j in range(2, 6):\n",
    "            sImgs = split(sImg, i, j)\n",
    "            tImgs = split(tImg, i, j)\n",
    "            for k in range(i * j):\n",
    "                diffs.append(method(sImgs[k], tImgs[k]))\n",
    "    imgs = {}\n",
    "    for i in range(2, 6):\n",
    "        for j in range(2, 6):\n",
    "            sImgs = split(sImg, i, j)\n",
    "            tImgs = split(tImg, i, j)\n",
    "            for k in range(i * j):\n",
    "                if (method(sImgs[k], tImgs[k]) < np.mean(diffs)):\n",
    "                    sImgs[k] = transfer_img(sImgs[k], tImgs[k])\n",
    "            Imgs2d = []\n",
    "            for k in range(i):\n",
    "                Imgs = []\n",
    "                for l in range(j):\n",
    "                    Imgs.append(sImgs[k * len(sImgs) // i + l])\n",
    "                Imgs2d.append(Imgs)\n",
    "\n",
    "            imgs[(i, j)] = concat_vh(Imgs2d)\n",
    "    return imgs"
   ],
   "metadata": {
    "collapsed": false
   }
  },
  {
   "cell_type": "code",
   "execution_count": 15,
   "outputs": [
    {
     "name": "stderr",
     "output_type": "stream",
     "text": [
      "C:\\Users\\GorkemKola\\AppData\\Local\\Temp\\ipykernel_9020\\1756009796.py:12: RuntimeWarning: divide by zero encountered in float_scalars\n",
      "  a *= (aStdSrc / aStdTar)\n",
      "C:\\Users\\GorkemKola\\AppData\\Local\\Temp\\ipykernel_9020\\1756009796.py:13: RuntimeWarning: divide by zero encountered in float_scalars\n",
      "  b *= (bStdSrc / bStdTar)\n",
      "C:\\Users\\GorkemKola\\AppData\\Local\\Temp\\ipykernel_9020\\1756009796.py:11: RuntimeWarning: divide by zero encountered in float_scalars\n",
      "  l *= (lStdSrc / lStdTar)\n"
     ]
    }
   ],
   "source": [
    "for i in range(len(source_list)):\n",
    "    source_img, target_img = source_list[i], target_list[i]\n",
    "\n",
    "    minHeight = min(source_img.shape[0], target_img.shape[0])\n",
    "    minWidth = min(source_img.shape[1], target_img.shape[1])\n",
    "\n",
    "    simg = cv.resize(source_img, (minWidth, minHeight))\n",
    "    timg = cv.resize(target_img, (minWidth, minHeight))\n",
    "\n",
    "    imgs_ssd = func(simg, timg, ssd)\n",
    "    imgs_cor = func(simg, timg, cor)\n",
    "    imgs_ssd_and_cor = func(simg, timg, ssd_and_cor)\n",
    "\n",
    "    for k in imgs_ssd.keys():\n",
    "        cv.imwrite(f\"./results_part2/ssd/{results[i][:-4]}/{k}.png\", imgs_ssd[k])\n",
    "        cv.imwrite(f\"./results_part2/cor/{results[i][:-4]}/{k}.png\", imgs_cor[k])\n",
    "        cv.imwrite(f\"./results_part2/ssd_and_cor/{results[i][:-4]}/{k}.png\", imgs_ssd_and_cor[k])"
   ],
   "metadata": {
    "collapsed": false
   }
  }
 ],
 "metadata": {
  "kernelspec": {
   "display_name": "Python 3 (ipykernel)",
   "language": "python",
   "name": "python3"
  },
  "language_info": {
   "codemirror_mode": {
    "name": "ipython",
    "version": 3
   },
   "file_extension": ".py",
   "mimetype": "text/x-python",
   "name": "python",
   "nbconvert_exporter": "python",
   "pygments_lexer": "ipython3",
   "version": "3.9.13"
  }
 },
 "nbformat": 4,
 "nbformat_minor": 1
}
